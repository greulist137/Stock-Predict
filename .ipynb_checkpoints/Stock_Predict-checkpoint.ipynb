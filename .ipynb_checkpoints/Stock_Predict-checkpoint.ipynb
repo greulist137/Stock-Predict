{
 "cells": [
  {
   "cell_type": "code",
   "execution_count": 36,
   "metadata": {},
   "outputs": [],
   "source": [
    "# import libraries here; add more as necessary\n",
    "import numpy as np\n",
    "import pandas as pd\n",
    "import matplotlib.pyplot as plt\n",
    "import seaborn as sns\n",
    "from sklearn.preprocessing import StandardScaler\n",
    "from sklearn.linear_model import LinearRegression\n",
    "import requests\n",
    "\n",
    "# magic word for producing visualizations in notebook\n",
    "%matplotlib inline"
   ]
  },
  {
   "cell_type": "code",
   "execution_count": 37,
   "metadata": {},
   "outputs": [],
   "source": [
    "# Load in the stock symbol data.\n",
    "stock_symbols = pd.read_csv(\"companylist.csv\")"
   ]
  },
  {
   "cell_type": "code",
   "execution_count": 38,
   "metadata": {},
   "outputs": [
    {
     "name": "stdout",
     "output_type": "stream",
     "text": [
      "  Symbol                    Name  LastSale     MarketCap  ADR TSO  IPOyear  \\\n",
      "0    DDD  3D Systems Corporation     12.38  1.413555e+09      NaN      NaN   \n",
      "1    MMM              3M Company    207.92  1.210691e+11      NaN      NaN   \n",
      "2   WBAI         500.com Limited      7.84  3.330862e+08      NaN   2013.0   \n",
      "3   WUBA             58.com Inc.     59.59  8.827589e+09      NaN   2013.0   \n",
      "4   EGHT                 8x8 Inc     19.71  1.879766e+09      NaN      NaN   \n",
      "\n",
      "              Sector                                         Industry  \\\n",
      "0         Technology          Computer Software: Prepackaged Software   \n",
      "1        Health Care                       Medical/Dental Instruments   \n",
      "2  Consumer Services            Services-Misc. Amusement & Recreation   \n",
      "3         Technology  Computer Software: Programming, Data Processing   \n",
      "4         Technology                                     EDP Services   \n",
      "\n",
      "                        Summary Quote  Unnamed: 9  \n",
      "0   https://www.nasdaq.com/symbol/ddd         NaN  \n",
      "1   https://www.nasdaq.com/symbol/mmm         NaN  \n",
      "2  https://www.nasdaq.com/symbol/wbai         NaN  \n",
      "3  https://www.nasdaq.com/symbol/wuba         NaN  \n",
      "4  https://www.nasdaq.com/symbol/eght         NaN  \n"
     ]
    }
   ],
   "source": [
    "#Taking a quick peek at the un-edited dataset\n",
    "print(stock_symbols.head())"
   ]
  },
  {
   "cell_type": "code",
   "execution_count": 39,
   "metadata": {},
   "outputs": [],
   "source": [
    "#Only interested in the list of Symbols.  All other columns have been dropped\n",
    "stock_symbols = stock_symbols.drop(['Name', 'LastSale', 'MarketCap', 'ADR TSO', 'IPOyear', 'Sector', 'Industry', 'Summary Quote', 'Unnamed: 9'], axis=1)"
   ]
  },
  {
   "cell_type": "code",
   "execution_count": 40,
   "metadata": {},
   "outputs": [
    {
     "name": "stdout",
     "output_type": "stream",
     "text": [
      "  Symbol\n",
      "0    DDD\n",
      "1    MMM\n",
      "2   WBAI\n",
      "3   WUBA\n",
      "4   EGHT\n"
     ]
    }
   ],
   "source": [
    "#Printing to get ensure only the Symbol column remains.  \n",
    "print(stock_symbols.head())"
   ]
  },
  {
   "cell_type": "code",
   "execution_count": 41,
   "metadata": {},
   "outputs": [
    {
     "name": "stdout",
     "output_type": "stream",
     "text": [
      "(3140, 1)\n"
     ]
    }
   ],
   "source": [
    "#Checking shape of dataset to see how many Symbols are contained in the dataset\n",
    "print(stock_symbols.shape)"
   ]
  },
  {
   "cell_type": "code",
   "execution_count": null,
   "metadata": {},
   "outputs": [],
   "source": [
    "#TODO. CREATE A FUNCTION THAT WILL CALL THE API WITH EACH CODE.  IF THERE IS A FAILURE, REMOVE \n",
    "#THAT SYMBOL FROM THE DATASET AND KEEP GOING.\n",
    "for index, row in stock_symbols.iterrows():\n",
    "    print (row['Symbol'])\n",
    "    data = pd.read_csv('https://www.alphavantage.co/query?function=TIME_SERIES_DAILY&symbol={}&apikey=RVXYVXKGEGNOH2F7&datatype=csv'.format(row['Symbol']))\n",
    "    print(data.head())\n"
   ]
  },
  {
   "cell_type": "code",
   "execution_count": null,
   "metadata": {},
   "outputs": [],
   "source": []
  },
  {
   "cell_type": "code",
   "execution_count": null,
   "metadata": {},
   "outputs": [],
   "source": []
  }
 ],
 "metadata": {
  "kernelspec": {
   "display_name": "Python 3",
   "language": "python",
   "name": "python3"
  }
 },
 "nbformat": 4,
 "nbformat_minor": 2
}
